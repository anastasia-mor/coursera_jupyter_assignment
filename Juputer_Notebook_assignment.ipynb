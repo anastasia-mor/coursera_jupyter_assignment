{
  "metadata": {
    "language_info": {
      "codemirror_mode": {
        "name": "python",
        "version": 3
      },
      "file_extension": ".py",
      "mimetype": "text/x-python",
      "name": "python",
      "nbconvert_exporter": "python",
      "pygments_lexer": "ipython3",
      "version": "3.8"
    },
    "kernelspec": {
      "name": "python",
      "display_name": "Pyolite",
      "language": "python"
    }
  },
  "nbformat_minor": 4,
  "nbformat": 4,
  "cells": [
    {
      "cell_type": "markdown",
      "source": "# My Jupyter Notebook on IBM Watson Studio",
      "metadata": {}
    },
    {
      "cell_type": "markdown",
      "source": "**Anastasia**\n\nData analyst in education",
      "metadata": {}
    },
    {
      "cell_type": "markdown",
      "source": "*I am interested in data science because it will allow me to develop more in my professional career. I would like to apply my knowledge about data science in either education or pharmaceutical areas.*",
      "metadata": {}
    },
    {
      "cell_type": "markdown",
      "source": "### The following code tests simple math operations (multiplication, division, subtraction)",
      "metadata": {}
    },
    {
      "cell_type": "code",
      "source": "4*7/2-3",
      "metadata": {
        "trusted": true
      },
      "execution_count": 6,
      "outputs": [
        {
          "execution_count": 6,
          "output_type": "execute_result",
          "data": {
            "text/plain": "11.0"
          },
          "metadata": {}
        }
      ]
    },
    {
      "cell_type": "markdown",
      "source": "Greenforest High School\n***\n| Group | Name | ID number | Email |\n| ------ | ------ | ------ |------ |\n| 301 | Maria | 56789 | [maria_p@gmail.com] |\n| 302 | George | 43561 | [george_m@hotmail.com] |\n| 302 | Patricio | 34591 | [Pato_garcia@yahoo.com] |",
      "metadata": {}
    },
    {
      "cell_type": "code",
      "source": "",
      "metadata": {},
      "execution_count": null,
      "outputs": []
    }
  ]
}